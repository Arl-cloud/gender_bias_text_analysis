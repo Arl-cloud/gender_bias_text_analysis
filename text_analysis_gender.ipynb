{
 "cells": [
  {
   "cell_type": "markdown",
   "id": "e8444b1e",
   "metadata": {},
   "source": [
    "# Text Analysis\n",
    "\n",
    "\n",
    "Note: some code in this notebook is taken or derived from the manual provided for the university course \"data mining\" at UU."
   ]
  },
  {
   "cell_type": "code",
   "execution_count": 1,
   "id": "72eb7e3f",
   "metadata": {},
   "outputs": [],
   "source": [
    "import pickle\n",
    "import pandas as pd\n",
    "\n",
    "df = pd.read_pickle('discussions.p')"
   ]
  },
  {
   "cell_type": "code",
   "execution_count": 2,
   "id": "92f0c387",
   "metadata": {},
   "outputs": [
    {
     "data": {
      "text/html": [
       "<div>\n",
       "<style scoped>\n",
       "    .dataframe tbody tr th:only-of-type {\n",
       "        vertical-align: middle;\n",
       "    }\n",
       "\n",
       "    .dataframe tbody tr th {\n",
       "        vertical-align: top;\n",
       "    }\n",
       "\n",
       "    .dataframe thead th {\n",
       "        text-align: right;\n",
       "    }\n",
       "</style>\n",
       "<table border=\"1\" class=\"dataframe\">\n",
       "  <thead>\n",
       "    <tr style=\"text-align: right;\">\n",
       "      <th></th>\n",
       "      <th>title</th>\n",
       "      <th>type</th>\n",
       "      <th>year</th>\n",
       "      <th>post</th>\n",
       "    </tr>\n",
       "  </thead>\n",
       "  <tbody>\n",
       "    <tr>\n",
       "      <th>0</th>\n",
       "      <td>Better Call Saul</td>\n",
       "      <td>linear</td>\n",
       "      <td>2017</td>\n",
       "      <td>Walter. And there the chain ends.</td>\n",
       "    </tr>\n",
       "    <tr>\n",
       "      <th>1</th>\n",
       "      <td>Better Call Saul</td>\n",
       "      <td>linear</td>\n",
       "      <td>2016</td>\n",
       "      <td>I love this show. But it's hard to argue again...</td>\n",
       "    </tr>\n",
       "    <tr>\n",
       "      <th>2</th>\n",
       "      <td>Better Call Saul</td>\n",
       "      <td>linear</td>\n",
       "      <td>2017</td>\n",
       "      <td>What am I missing?  A lot of reference to ribs...</td>\n",
       "    </tr>\n",
       "    <tr>\n",
       "      <th>3</th>\n",
       "      <td>Better Call Saul</td>\n",
       "      <td>linear</td>\n",
       "      <td>2018</td>\n",
       "      <td>Oh come on Mike, he's a good little boy.</td>\n",
       "    </tr>\n",
       "    <tr>\n",
       "      <th>4</th>\n",
       "      <td>Better Call Saul</td>\n",
       "      <td>linear</td>\n",
       "      <td>2017</td>\n",
       "      <td>Look again 👀</td>\n",
       "    </tr>\n",
       "  </tbody>\n",
       "</table>\n",
       "</div>"
      ],
      "text/plain": [
       "              title    type  year  \\\n",
       "0  Better Call Saul  linear  2017   \n",
       "1  Better Call Saul  linear  2016   \n",
       "2  Better Call Saul  linear  2017   \n",
       "3  Better Call Saul  linear  2018   \n",
       "4  Better Call Saul  linear  2017   \n",
       "\n",
       "                                                post  \n",
       "0                  Walter. And there the chain ends.  \n",
       "1  I love this show. But it's hard to argue again...  \n",
       "2  What am I missing?  A lot of reference to ribs...  \n",
       "3          Oh come on Mike, he's a good little boy.   \n",
       "4                                       Look again 👀  "
      ]
     },
     "execution_count": 2,
     "metadata": {},
     "output_type": "execute_result"
    }
   ],
   "source": [
    "df.head()"
   ]
  },
  {
   "cell_type": "code",
   "execution_count": 3,
   "id": "2b0ee313",
   "metadata": {},
   "outputs": [
    {
     "data": {
      "text/html": [
       "<div>\n",
       "<style scoped>\n",
       "    .dataframe tbody tr th:only-of-type {\n",
       "        vertical-align: middle;\n",
       "    }\n",
       "\n",
       "    .dataframe tbody tr th {\n",
       "        vertical-align: top;\n",
       "    }\n",
       "\n",
       "    .dataframe thead th {\n",
       "        text-align: right;\n",
       "    }\n",
       "</style>\n",
       "<table border=\"1\" class=\"dataframe\">\n",
       "  <thead>\n",
       "    <tr style=\"text-align: right;\">\n",
       "      <th></th>\n",
       "      <th>title</th>\n",
       "      <th>type</th>\n",
       "      <th>year</th>\n",
       "      <th>post</th>\n",
       "    </tr>\n",
       "  </thead>\n",
       "  <tbody>\n",
       "    <tr>\n",
       "      <th>49995</th>\n",
       "      <td>Twin Peaks</td>\n",
       "      <td>linear</td>\n",
       "      <td>2017</td>\n",
       "      <td>Anyone else think that the top of the mushroom...</td>\n",
       "    </tr>\n",
       "    <tr>\n",
       "      <th>49996</th>\n",
       "      <td>Twin Peaks</td>\n",
       "      <td>linear</td>\n",
       "      <td>2017</td>\n",
       "      <td>Shit I thought it was mini van lady with shoot...</td>\n",
       "    </tr>\n",
       "    <tr>\n",
       "      <th>49997</th>\n",
       "      <td>Twin Peaks</td>\n",
       "      <td>linear</td>\n",
       "      <td>2017</td>\n",
       "      <td>Did Janey say that Dougie was absent for a nig...</td>\n",
       "    </tr>\n",
       "    <tr>\n",
       "      <th>49998</th>\n",
       "      <td>Twin Peaks</td>\n",
       "      <td>linear</td>\n",
       "      <td>2017</td>\n",
       "      <td>From what I've read and seen they were mutual ...</td>\n",
       "    </tr>\n",
       "    <tr>\n",
       "      <th>49999</th>\n",
       "      <td>Twin Peaks</td>\n",
       "      <td>linear</td>\n",
       "      <td>2017</td>\n",
       "      <td>PBR... blech!!!</td>\n",
       "    </tr>\n",
       "  </tbody>\n",
       "</table>\n",
       "</div>"
      ],
      "text/plain": [
       "            title     type  year  \\\n",
       "49995  Twin Peaks  linear   2017   \n",
       "49996  Twin Peaks  linear   2017   \n",
       "49997  Twin Peaks  linear   2017   \n",
       "49998  Twin Peaks  linear   2017   \n",
       "49999  Twin Peaks  linear   2017   \n",
       "\n",
       "                                                    post  \n",
       "49995  Anyone else think that the top of the mushroom...  \n",
       "49996  Shit I thought it was mini van lady with shoot...  \n",
       "49997  Did Janey say that Dougie was absent for a nig...  \n",
       "49998  From what I've read and seen they were mutual ...  \n",
       "49999                                    PBR... blech!!!  "
      ]
     },
     "execution_count": 3,
     "metadata": {},
     "output_type": "execute_result"
    }
   ],
   "source": [
    "df.tail()"
   ]
  },
  {
   "cell_type": "markdown",
   "id": "8b67d615",
   "metadata": {},
   "source": [
    "## Statement on the relevance of the comparison and hypothesis\n",
    "\n",
    "Orange is the new black (OITNB) and Breaking Bad (BB) are both popular shows but differ in their amount of male and female protagonists. \n",
    "OITNB takes place in a womens prison, the main protagonists are female and also most side characters. \n",
    "On the other hand, BB revolves mainly about male characters, with the main protagonists being male.\n",
    "As a result, the discussions about OITNB may contain more words associated with female gender and discussions about BB may contain more words associated with the male gender.\n",
    "\n",
    "I expect both shows discussions' to have a gender bias, however, I assume discussions about OITNB to have a gender bias toward women and discussions about BB to have a gender bias toward men.\n",
    "\n",
    "Based on the differences in the shows explained above, it will be interesting to investigate whether there will actually be a gender bias in the discussions and if this gender bias, for each show, exists in the expected direction."
   ]
  },
  {
   "cell_type": "markdown",
   "id": "e32b25ea",
   "metadata": {},
   "source": [
    "Checking the amount of data available for both shows."
   ]
  },
  {
   "cell_type": "code",
   "execution_count": 4,
   "id": "afe2e216",
   "metadata": {},
   "outputs": [
    {
     "data": {
      "text/plain": [
       "Game of Thrones            15462\n",
       "Breaking Bad                6424\n",
       "Better Call Saul            5268\n",
       "Black Mirror                4720\n",
       "Stranger Things             2891\n",
       "True Detective              2721\n",
       "Twin Peaks                  2399\n",
       "Dark                        2004\n",
       "Ozark                       1417\n",
       "Mr. Robot                   1347\n",
       "Orange is the New Black     1208\n",
       "The Witcher                 1188\n",
       "Fargo                        680\n",
       "Mindhunter                   657\n",
       "The Newsroom                 484\n",
       "Succession                   389\n",
       "The Crown                    338\n",
       "House of Cards               158\n",
       "La Casa de Papel             150\n",
       "The Mandelorian               95\n",
       "Name: title, dtype: int64"
      ]
     },
     "execution_count": 4,
     "metadata": {},
     "output_type": "execute_result"
    }
   ],
   "source": [
    "df.title.value_counts()"
   ]
  },
  {
   "cell_type": "markdown",
   "id": "6974f603",
   "metadata": {},
   "source": [
    "Creating subsets of data for each show."
   ]
  },
  {
   "cell_type": "code",
   "execution_count": 5,
   "id": "ec58f6cb",
   "metadata": {},
   "outputs": [
    {
     "data": {
      "text/html": [
       "<div>\n",
       "<style scoped>\n",
       "    .dataframe tbody tr th:only-of-type {\n",
       "        vertical-align: middle;\n",
       "    }\n",
       "\n",
       "    .dataframe tbody tr th {\n",
       "        vertical-align: top;\n",
       "    }\n",
       "\n",
       "    .dataframe thead th {\n",
       "        text-align: right;\n",
       "    }\n",
       "</style>\n",
       "<table border=\"1\" class=\"dataframe\">\n",
       "  <thead>\n",
       "    <tr style=\"text-align: right;\">\n",
       "      <th></th>\n",
       "      <th>title</th>\n",
       "      <th>type</th>\n",
       "      <th>year</th>\n",
       "      <th>post</th>\n",
       "    </tr>\n",
       "  </thead>\n",
       "  <tbody>\n",
       "    <tr>\n",
       "      <th>36870</th>\n",
       "      <td>Orange is the New Black</td>\n",
       "      <td>netflix</td>\n",
       "      <td>2016</td>\n",
       "      <td>Maria stole Piper's business ... fuck Maria.</td>\n",
       "    </tr>\n",
       "    <tr>\n",
       "      <th>36871</th>\n",
       "      <td>Orange is the New Black</td>\n",
       "      <td>netflix</td>\n",
       "      <td>2016</td>\n",
       "      <td>I think it was more of he was too distracted b...</td>\n",
       "    </tr>\n",
       "    <tr>\n",
       "      <th>36872</th>\n",
       "      <td>Orange is the New Black</td>\n",
       "      <td>netflix</td>\n",
       "      <td>2016</td>\n",
       "      <td>Yeah it's issue 100.</td>\n",
       "    </tr>\n",
       "    <tr>\n",
       "      <th>36873</th>\n",
       "      <td>Orange is the New Black</td>\n",
       "      <td>netflix</td>\n",
       "      <td>2016</td>\n",
       "      <td>They weren't that bad given the situation. I'm...</td>\n",
       "    </tr>\n",
       "    <tr>\n",
       "      <th>36874</th>\n",
       "      <td>Orange is the New Black</td>\n",
       "      <td>netflix</td>\n",
       "      <td>2016</td>\n",
       "      <td>Maritza bartending in Miami? It's like watchin...</td>\n",
       "    </tr>\n",
       "  </tbody>\n",
       "</table>\n",
       "</div>"
      ],
      "text/plain": [
       "                         title     type  year  \\\n",
       "36870  Orange is the New Black  netflix  2016   \n",
       "36871  Orange is the New Black  netflix  2016   \n",
       "36872  Orange is the New Black  netflix  2016   \n",
       "36873  Orange is the New Black  netflix  2016   \n",
       "36874  Orange is the New Black  netflix  2016   \n",
       "\n",
       "                                                    post  \n",
       "36870       Maria stole Piper's business ... fuck Maria.  \n",
       "36871  I think it was more of he was too distracted b...  \n",
       "36872                               Yeah it's issue 100.  \n",
       "36873  They weren't that bad given the situation. I'm...  \n",
       "36874  Maritza bartending in Miami? It's like watchin...  "
      ]
     },
     "execution_count": 5,
     "metadata": {},
     "output_type": "execute_result"
    }
   ],
   "source": [
    "df_oitnb = df[df['title'] == 'Orange is the New Black']\n",
    "df_oitnb.head()"
   ]
  },
  {
   "cell_type": "code",
   "execution_count": 6,
   "id": "af758fda",
   "metadata": {},
   "outputs": [
    {
     "data": {
      "text/html": [
       "<div>\n",
       "<style scoped>\n",
       "    .dataframe tbody tr th:only-of-type {\n",
       "        vertical-align: middle;\n",
       "    }\n",
       "\n",
       "    .dataframe tbody tr th {\n",
       "        vertical-align: top;\n",
       "    }\n",
       "\n",
       "    .dataframe thead th {\n",
       "        text-align: right;\n",
       "    }\n",
       "</style>\n",
       "<table border=\"1\" class=\"dataframe\">\n",
       "  <thead>\n",
       "    <tr style=\"text-align: right;\">\n",
       "      <th></th>\n",
       "      <th>title</th>\n",
       "      <th>type</th>\n",
       "      <th>year</th>\n",
       "      <th>post</th>\n",
       "    </tr>\n",
       "  </thead>\n",
       "  <tbody>\n",
       "    <tr>\n",
       "      <th>9988</th>\n",
       "      <td>Breaking Bad</td>\n",
       "      <td>linear</td>\n",
       "      <td>2012</td>\n",
       "      <td>&amp;gt;Mike and his granddaughter.</td>\n",
       "    </tr>\n",
       "    <tr>\n",
       "      <th>9989</th>\n",
       "      <td>Breaking Bad</td>\n",
       "      <td>linear</td>\n",
       "      <td>2013</td>\n",
       "      <td>Cool! Thanks for the update! Much appreciated.</td>\n",
       "    </tr>\n",
       "    <tr>\n",
       "      <th>9990</th>\n",
       "      <td>Breaking Bad</td>\n",
       "      <td>linear</td>\n",
       "      <td>2011</td>\n",
       "      <td>The last thing they need is a wildcard.  Jesse...</td>\n",
       "    </tr>\n",
       "    <tr>\n",
       "      <th>9991</th>\n",
       "      <td>Breaking Bad</td>\n",
       "      <td>linear</td>\n",
       "      <td>2013</td>\n",
       "      <td>I don't think there's any doubt that Walt pois...</td>\n",
       "    </tr>\n",
       "    <tr>\n",
       "      <th>9992</th>\n",
       "      <td>Breaking Bad</td>\n",
       "      <td>linear</td>\n",
       "      <td>2012</td>\n",
       "      <td>Don't you have to also note that you watched i...</td>\n",
       "    </tr>\n",
       "  </tbody>\n",
       "</table>\n",
       "</div>"
      ],
      "text/plain": [
       "             title    type  year  \\\n",
       "9988  Breaking Bad  linear  2012   \n",
       "9989  Breaking Bad  linear  2013   \n",
       "9990  Breaking Bad  linear  2011   \n",
       "9991  Breaking Bad  linear  2013   \n",
       "9992  Breaking Bad  linear  2012   \n",
       "\n",
       "                                                   post  \n",
       "9988                    &gt;Mike and his granddaughter.  \n",
       "9989     Cool! Thanks for the update! Much appreciated.  \n",
       "9990  The last thing they need is a wildcard.  Jesse...  \n",
       "9991  I don't think there's any doubt that Walt pois...  \n",
       "9992  Don't you have to also note that you watched i...  "
      ]
     },
     "execution_count": 6,
     "metadata": {},
     "output_type": "execute_result"
    }
   ],
   "source": [
    "df_bb = df[df['title'] == 'Breaking Bad']\n",
    "df_bb.head()"
   ]
  },
  {
   "cell_type": "markdown",
   "id": "465cbbd4",
   "metadata": {},
   "source": [
    "Preprocessing:\n",
    "Converting dataframe column 'post' to list, tokenizing the list, removing punctuation and lowercasing."
   ]
  },
  {
   "cell_type": "code",
   "execution_count": 7,
   "id": "cac84bee",
   "metadata": {},
   "outputs": [],
   "source": [
    "def tokenize(text):\n",
    "    punctuations = '!\"#$%&\\'()*+,-./:;<=>?@[\\\\]^_`{|}~'\n",
    "    for punctuation in punctuations:\n",
    "        text = text.replace(punctuation, '')\n",
    "    text = text.lower() \n",
    "    text = text.split()\n",
    "    return text"
   ]
  },
  {
   "cell_type": "markdown",
   "id": "ba7d3c31",
   "metadata": {},
   "source": [
    "#### BB"
   ]
  },
  {
   "cell_type": "code",
   "execution_count": 8,
   "id": "133a7c00",
   "metadata": {},
   "outputs": [],
   "source": [
    "bb_list = df_bb['post'].tolist()"
   ]
  },
  {
   "cell_type": "code",
   "execution_count": 9,
   "id": "88d27edb",
   "metadata": {},
   "outputs": [],
   "source": [
    "tokenized_texts_bb = [tokenize(text) for text in bb_list]"
   ]
  },
  {
   "cell_type": "markdown",
   "id": "d7ab7b22",
   "metadata": {},
   "source": [
    "#### OITNB"
   ]
  },
  {
   "cell_type": "code",
   "execution_count": 10,
   "id": "4a9d4b7f",
   "metadata": {},
   "outputs": [],
   "source": [
    "oitnb_list = df_oitnb['post'].tolist()"
   ]
  },
  {
   "cell_type": "code",
   "execution_count": 11,
   "id": "518f89ea",
   "metadata": {},
   "outputs": [],
   "source": [
    "tokenized_texts_oitnb = [tokenize(text) for text in oitnb_list]"
   ]
  },
  {
   "cell_type": "markdown",
   "id": "a1430372",
   "metadata": {},
   "source": [
    "Training the word embedding models (Word2Vec) for each show.\n",
    "For the models I use a window-size of 10, 300 embedding dimensions (as the data is large enough for both shows), minimum count of 5 (a word has to appear at least 5 times to be included; to exlcude words that are not relevant) and skip-gram."
   ]
  },
  {
   "cell_type": "code",
   "execution_count": 12,
   "id": "97949e45",
   "metadata": {},
   "outputs": [],
   "source": [
    "import gensim\n",
    "from gensim.models import Word2Vec"
   ]
  },
  {
   "cell_type": "markdown",
   "id": "b46eb5e2",
   "metadata": {},
   "source": [
    "#### BB"
   ]
  },
  {
   "cell_type": "code",
   "execution_count": 13,
   "id": "d00fa16f",
   "metadata": {},
   "outputs": [
    {
     "data": {
      "text/plain": [
       "(334244, 518180)"
      ]
     },
     "execution_count": 13,
     "metadata": {},
     "output_type": "execute_result"
    }
   ],
   "source": [
    "SIZE = 300 \n",
    "SG = 1 \n",
    "WINDOW = 10 \n",
    "N_WORKERS = 1 \n",
    "MIN_COUNT = 5\n",
    "\n",
    "model_bb = Word2Vec(size=SIZE,\n",
    "                sg=SG,\n",
    "                window=WINDOW, \n",
    "                min_count=MIN_COUNT,\n",
    "                workers=N_WORKERS)\n",
    "\n",
    "model_bb.build_vocab(tokenized_texts_bb)\n",
    "\n",
    "\n",
    "model_bb.train(tokenized_texts_bb,\n",
    "               total_examples=model_bb.corpus_count,\n",
    "               epochs=model_bb.epochs)"
   ]
  },
  {
   "cell_type": "markdown",
   "id": "bbc9ba53",
   "metadata": {},
   "source": [
    "#### OITNB"
   ]
  },
  {
   "cell_type": "code",
   "execution_count": 14,
   "id": "b1ae9c0c",
   "metadata": {},
   "outputs": [
    {
     "data": {
      "text/plain": [
       "(92488, 167750)"
      ]
     },
     "execution_count": 14,
     "metadata": {},
     "output_type": "execute_result"
    }
   ],
   "source": [
    "SIZE = 300 \n",
    "SG = 1 \n",
    "WINDOW = 10\n",
    "N_WORKERS = 1 \n",
    "MIN_COUNT = 5\n",
    "\n",
    "model_oitnb = Word2Vec(size=SIZE,\n",
    "                sg=SG,\n",
    "                window=WINDOW, \n",
    "                min_count=MIN_COUNT,\n",
    "                workers=N_WORKERS)\n",
    "\n",
    "model_oitnb.build_vocab(tokenized_texts_oitnb)\n",
    "\n",
    "model_oitnb.train(tokenized_texts_oitnb,\n",
    "                    total_examples=model_oitnb.corpus_count,\n",
    "                    epochs=model_oitnb.epochs)"
   ]
  },
  {
   "cell_type": "markdown",
   "id": "45a21979",
   "metadata": {},
   "source": [
    "Printing common proper nouns of both shows using spacy, to include the 2 most common female and male names of each show in the gender-related lists."
   ]
  },
  {
   "cell_type": "code",
   "execution_count": 15,
   "id": "ebe5f197",
   "metadata": {},
   "outputs": [],
   "source": [
    "import spacy \n",
    "nlp = spacy.load(\"en_core_web_sm\")"
   ]
  },
  {
   "cell_type": "markdown",
   "id": "be84683a",
   "metadata": {},
   "source": [
    "#### BB"
   ]
  },
  {
   "cell_type": "code",
   "execution_count": 16,
   "id": "f31e6137",
   "metadata": {},
   "outputs": [],
   "source": [
    "texts = bb_list\n",
    "\n",
    "processed_texts = [text for text in nlp.pipe(texts, \n",
    "                                              n_process=4,\n",
    "                                              disable=[\"ner\",\n",
    "                                                       \"parser\"])]\n",
    "\n",
    "tokenized_propn_bb = [[word.lemma_.lower() for word in processed_text if word.pos_ == 'PROPN'\n",
    "                                and not word.is_stop and not word.is_punct] for processed_text in processed_texts]"
   ]
  },
  {
   "cell_type": "code",
   "execution_count": 17,
   "id": "a6db7835",
   "metadata": {},
   "outputs": [],
   "source": [
    "flatten = lambda t: [item for sublist in t for item in sublist]\n",
    "\n",
    "tokenized_propn_bb_flat = flatten(tokenized_propn_bb)"
   ]
  },
  {
   "cell_type": "code",
   "execution_count": 18,
   "id": "946bf09e",
   "metadata": {},
   "outputs": [],
   "source": [
    "from collections import Counter\n",
    "propn_counts_bb = Counter(tokenized_propn_bb_flat)"
   ]
  },
  {
   "cell_type": "code",
   "execution_count": 19,
   "id": "4505f663",
   "metadata": {},
   "outputs": [
    {
     "data": {
      "text/plain": [
       "[('walt', 1207),\n",
       " ('jesse', 728),\n",
       " ('hank', 417),\n",
       " ('mike', 296),\n",
       " ('gus', 243),\n",
       " ('todd', 184),\n",
       " ('skyler', 155),\n",
       " ('walter', 149),\n",
       " ('marie', 132),\n",
       " ('saul', 106)]"
      ]
     },
     "execution_count": 19,
     "metadata": {},
     "output_type": "execute_result"
    }
   ],
   "source": [
    "propn_counts_bb.most_common()[:10] "
   ]
  },
  {
   "cell_type": "markdown",
   "id": "bc27ca57",
   "metadata": {},
   "source": [
    "#### OITNB"
   ]
  },
  {
   "cell_type": "code",
   "execution_count": 20,
   "id": "90e95fc3",
   "metadata": {},
   "outputs": [],
   "source": [
    "texts = oitnb_list\n",
    "\n",
    "processed_texts = [text for text in nlp.pipe(texts, \n",
    "                                              n_process=4,\n",
    "                                              disable=[\"ner\",\n",
    "                                                       \"parser\"])]\n",
    "\n",
    "tokenized_propn_oitnb = [[word.lemma_.lower() for word in processed_text if word.pos_ == 'PROPN'\n",
    "                                and not word.is_stop and not word.is_punct] for processed_text in processed_texts]"
   ]
  },
  {
   "cell_type": "code",
   "execution_count": 21,
   "id": "5f3937af",
   "metadata": {},
   "outputs": [],
   "source": [
    "flatten = lambda t: [item for sublist in t for item in sublist]\n",
    "\n",
    "tokenized_propn_oitnb_flat = flatten(tokenized_propn_oitnb)"
   ]
  },
  {
   "cell_type": "code",
   "execution_count": 22,
   "id": "45494214",
   "metadata": {},
   "outputs": [],
   "source": [
    "propn_counts_oitnb = Counter(tokenized_propn_oitnb_flat)"
   ]
  },
  {
   "cell_type": "code",
   "execution_count": 23,
   "id": "4ef559a1",
   "metadata": {},
   "outputs": [
    {
     "data": {
      "text/plain": [
       "[('piper', 98),\n",
       " ('alex', 50),\n",
       " ('suzanne', 38),\n",
       " ('poussey', 34),\n",
       " ('healy', 31),\n",
       " ('caputo', 30),\n",
       " ('daya', 26),\n",
       " ('stella', 24),\n",
       " ('bennett', 24),\n",
       " ('boo', 21)]"
      ]
     },
     "execution_count": 23,
     "metadata": {},
     "output_type": "execute_result"
    }
   ],
   "source": [
    "propn_counts_oitnb.most_common()[:10] "
   ]
  },
  {
   "cell_type": "markdown",
   "id": "81d3b6cd",
   "metadata": {},
   "source": [
    "Creating lists of male and female related words (most common 2 female and male character names of each show included)."
   ]
  },
  {
   "cell_type": "markdown",
   "id": "706ff959",
   "metadata": {},
   "source": [
    "#### BB"
   ]
  },
  {
   "cell_type": "code",
   "execution_count": 24,
   "id": "fbe2f236",
   "metadata": {},
   "outputs": [],
   "source": [
    "male_rel_bb = [\"walt\", \"jesse\", \"he\", \"his\", \"male\", \"men\", \"man\", \"brother\", \"father\", \"son\"]"
   ]
  },
  {
   "cell_type": "code",
   "execution_count": 25,
   "id": "3d60420a",
   "metadata": {},
   "outputs": [],
   "source": [
    "female_rel_bb = [\"skyler\", \"marie\", \"she\", \"her\", \"female\", \"woman\", \"women\", \"mother\", \"sister\", \"daughter\"]"
   ]
  },
  {
   "cell_type": "markdown",
   "id": "88ddf708",
   "metadata": {},
   "source": [
    "#### OITNB"
   ]
  },
  {
   "cell_type": "code",
   "execution_count": 26,
   "id": "30d58bec",
   "metadata": {},
   "outputs": [],
   "source": [
    "male_rel_oitnb = [\"caputo\", \"bennett\", \"he\", \"his\", \"male\", \"men\", \"man\", \"brother\", \"father\", \"son\"]"
   ]
  },
  {
   "cell_type": "code",
   "execution_count": 27,
   "id": "c4e21ab0",
   "metadata": {},
   "outputs": [],
   "source": [
    "female_rel_oitnb = [\"piper\", \"alex\", \"she\", \"her\", \"female\", \"woman\", \"women\", \"mother\", \"sister\", \"daughter\"]"
   ]
  },
  {
   "cell_type": "markdown",
   "id": "f1f940f5",
   "metadata": {},
   "source": [
    "#### Wever's method"
   ]
  },
  {
   "cell_type": "markdown",
   "id": "f78f4a98",
   "metadata": {},
   "source": [
    "Loading word categories."
   ]
  },
  {
   "cell_type": "code",
   "execution_count": 28,
   "id": "515f8bab",
   "metadata": {},
   "outputs": [
    {
     "data": {
      "text/html": [
       "<div>\n",
       "<style scoped>\n",
       "    .dataframe tbody tr th:only-of-type {\n",
       "        vertical-align: middle;\n",
       "    }\n",
       "\n",
       "    .dataframe tbody tr th {\n",
       "        vertical-align: top;\n",
       "    }\n",
       "\n",
       "    .dataframe thead th {\n",
       "        text-align: right;\n",
       "    }\n",
       "</style>\n",
       "<table border=\"1\" class=\"dataframe\">\n",
       "  <thead>\n",
       "    <tr style=\"text-align: right;\">\n",
       "      <th></th>\n",
       "      <th>affect</th>\n",
       "      <th>posemo</th>\n",
       "      <th>negemo</th>\n",
       "      <th>social</th>\n",
       "      <th>family</th>\n",
       "      <th>cogproc</th>\n",
       "      <th>percept</th>\n",
       "      <th>body</th>\n",
       "      <th>work</th>\n",
       "      <th>leisure</th>\n",
       "      <th>money</th>\n",
       "      <th>relig</th>\n",
       "      <th>occupation</th>\n",
       "    </tr>\n",
       "  </thead>\n",
       "  <tbody>\n",
       "    <tr>\n",
       "      <th>0</th>\n",
       "      <td>protesting</td>\n",
       "      <td>incentive</td>\n",
       "      <td>destruction</td>\n",
       "      <td>chick</td>\n",
       "      <td>ma's</td>\n",
       "      <td>comply</td>\n",
       "      <td>squeez</td>\n",
       "      <td>pussy</td>\n",
       "      <td>dotcom</td>\n",
       "      <td>dnd</td>\n",
       "      <td>portfolio</td>\n",
       "      <td>goddess</td>\n",
       "      <td>accountant</td>\n",
       "    </tr>\n",
       "    <tr>\n",
       "      <th>1</th>\n",
       "      <td>pretty</td>\n",
       "      <td>luck</td>\n",
       "      <td>beaten</td>\n",
       "      <td>ma's</td>\n",
       "      <td>niece</td>\n",
       "      <td>luck</td>\n",
       "      <td>sand</td>\n",
       "      <td>wears</td>\n",
       "      <td>employee</td>\n",
       "      <td>vacation</td>\n",
       "      <td>sale</td>\n",
       "      <td>karma</td>\n",
       "      <td>actor</td>\n",
       "    </tr>\n",
       "    <tr>\n",
       "      <th>2</th>\n",
       "      <td>sighs</td>\n",
       "      <td>freeing</td>\n",
       "      <td>battl</td>\n",
       "      <td>lets</td>\n",
       "      <td>stepkid</td>\n",
       "      <td>unquestion</td>\n",
       "      <td>moist</td>\n",
       "      <td>hearts</td>\n",
       "      <td>paper</td>\n",
       "      <td>hobb</td>\n",
       "      <td>stores</td>\n",
       "      <td>pastor</td>\n",
       "      <td>actress</td>\n",
       "    </tr>\n",
       "    <tr>\n",
       "      <th>3</th>\n",
       "      <td>warmth</td>\n",
       "      <td>pretty</td>\n",
       "      <td>protesting</td>\n",
       "      <td>son's</td>\n",
       "      <td>son's</td>\n",
       "      <td>pretty</td>\n",
       "      <td>warmth</td>\n",
       "      <td>asleep</td>\n",
       "      <td>earns</td>\n",
       "      <td>band</td>\n",
       "      <td>bets</td>\n",
       "      <td>temple</td>\n",
       "      <td>actuary</td>\n",
       "    </tr>\n",
       "    <tr>\n",
       "      <th>4</th>\n",
       "      <td>mooch</td>\n",
       "      <td>nicely</td>\n",
       "      <td>dumber</td>\n",
       "      <td>daddies</td>\n",
       "      <td>daddies</td>\n",
       "      <td>become</td>\n",
       "      <td>gloomy</td>\n",
       "      <td>gums</td>\n",
       "      <td>assign</td>\n",
       "      <td>skat</td>\n",
       "      <td>bank</td>\n",
       "      <td>holy</td>\n",
       "      <td>acupuncturist</td>\n",
       "    </tr>\n",
       "  </tbody>\n",
       "</table>\n",
       "</div>"
      ],
      "text/plain": [
       "       affect     posemo       negemo   social   family     cogproc percept  \\\n",
       "0  protesting  incentive  destruction    chick     ma's      comply  squeez   \n",
       "1      pretty       luck       beaten     ma's    niece        luck    sand   \n",
       "2       sighs    freeing        battl     lets  stepkid  unquestion   moist   \n",
       "3      warmth     pretty   protesting    son's    son's      pretty  warmth   \n",
       "4       mooch     nicely       dumber  daddies  daddies      become  gloomy   \n",
       "\n",
       "     body      work   leisure      money    relig     occupation  \n",
       "0   pussy    dotcom       dnd  portfolio  goddess     accountant  \n",
       "1   wears  employee  vacation       sale    karma          actor  \n",
       "2  hearts     paper      hobb     stores   pastor        actress  \n",
       "3  asleep     earns      band       bets   temple        actuary  \n",
       "4    gums    assign      skat       bank     holy  acupuncturist  "
      ]
     },
     "execution_count": 28,
     "metadata": {},
     "output_type": "execute_result"
    }
   ],
   "source": [
    "df_cats = pd.read_pickle('word_cats.p')\n",
    "df_cats.head()"
   ]
  },
  {
   "cell_type": "markdown",
   "id": "0ba48802",
   "metadata": {},
   "source": [
    "Calculate mean embeddings of female and male related words."
   ]
  },
  {
   "cell_type": "code",
   "execution_count": 29,
   "id": "c28941a1",
   "metadata": {},
   "outputs": [],
   "source": [
    "import numpy as np"
   ]
  },
  {
   "cell_type": "markdown",
   "id": "0ed98676",
   "metadata": {},
   "source": [
    "#### BB"
   ]
  },
  {
   "cell_type": "code",
   "execution_count": 30,
   "id": "7155c3fe",
   "metadata": {},
   "outputs": [],
   "source": [
    "words = [word for word in female_rel_bb if word in model_bb.wv.vocab] \n",
    "mean_embedding_female_bb = np.mean([model_bb.wv[word] for word in words], axis=0)"
   ]
  },
  {
   "cell_type": "code",
   "execution_count": 31,
   "id": "7ed5b975",
   "metadata": {},
   "outputs": [],
   "source": [
    "words = [word for word in male_rel_bb if word in model_bb.wv.vocab] \n",
    "mean_embedding_male_bb = np.mean([model_bb.wv[word] for word in words], axis=0)"
   ]
  },
  {
   "cell_type": "markdown",
   "id": "3a8caf42",
   "metadata": {},
   "source": [
    "#### OITNB"
   ]
  },
  {
   "cell_type": "code",
   "execution_count": 32,
   "id": "d0ac9a2c",
   "metadata": {},
   "outputs": [],
   "source": [
    "words = [word for word in female_rel_oitnb if word in model_oitnb.wv.vocab] \n",
    "mean_embedding_female_oitnb = np.mean([model_oitnb.wv[word] for word in words], axis=0)"
   ]
  },
  {
   "cell_type": "code",
   "execution_count": 33,
   "id": "2508263f",
   "metadata": {},
   "outputs": [],
   "source": [
    "words = [word for word in male_rel_oitnb if word in model_oitnb.wv.vocab] \n",
    "mean_embedding_male_oitnb = np.mean([model_oitnb.wv[word] for word in words], axis=0)"
   ]
  },
  {
   "cell_type": "markdown",
   "id": "d9b3c147",
   "metadata": {},
   "source": [
    "Calculation of gender bias: for each word in a category of Wever's, the distance between the word vector and each gender vector (male and female) is calulated. Those differences are then substracted and indicate the bias of this certain word."
   ]
  },
  {
   "cell_type": "markdown",
   "id": "a320d245",
   "metadata": {},
   "source": [
    "#### BB"
   ]
  },
  {
   "cell_type": "markdown",
   "id": "6a3510f3",
   "metadata": {},
   "source": [
    "Difference between the gender vectors of BB."
   ]
  },
  {
   "cell_type": "code",
   "execution_count": 34,
   "id": "f181beee",
   "metadata": {},
   "outputs": [
    {
     "data": {
      "text/plain": [
       "0.6565799"
      ]
     },
     "execution_count": 34,
     "metadata": {},
     "output_type": "execute_result"
    }
   ],
   "source": [
    "differnce_gender_bb = np.linalg.norm(np.subtract(mean_embedding_male_bb, mean_embedding_female_bb))\n",
    "differnce_gender_bb"
   ]
  },
  {
   "cell_type": "markdown",
   "id": "2ab4affd",
   "metadata": {},
   "source": [
    "To get the average bias in discussions about Breaking Bad, the average of the biases of all words in Wever's categories is calculated."
   ]
  },
  {
   "cell_type": "code",
   "execution_count": 35,
   "id": "0fb9460f",
   "metadata": {},
   "outputs": [
    {
     "name": "stdout",
     "output_type": "stream",
     "text": [
      "-0.1692482244791621\n"
     ]
    }
   ],
   "source": [
    "bias = {}\n",
    "total_bias_bb = []\n",
    "\n",
    "for column in df_cats.columns:\n",
    "    for word in df_cats[column]:\n",
    "        if word in model_bb.wv.vocab:\n",
    "            distance_male = np.linalg.norm(np.subtract(model_bb.wv[word], mean_embedding_male_bb))\n",
    "            distance_female = np.linalg.norm(np.subtract(model_bb.wv[word], mean_embedding_female_bb))\n",
    "            gender_bias_word = distance_male - distance_female\n",
    "            bias[word] = gender_bias_word\n",
    "    bias_calc = pd.DataFrame.from_dict(bias, orient = 'index', columns= ['col'])\n",
    "    mean_bias = bias_calc['col'].mean()\n",
    "    #print(column, \":\", mean_bias)\n",
    "    total_bias_bb.append(mean_bias)\n",
    "    bias = {}\n",
    "print(np.mean(total_bias_bb))"
   ]
  },
  {
   "cell_type": "markdown",
   "id": "bc2bf7d1",
   "metadata": {},
   "source": [
    "The bias for each of Wever's categories is the mean of all biases of words in one category."
   ]
  },
  {
   "cell_type": "code",
   "execution_count": 36,
   "id": "d3d8c61f",
   "metadata": {
    "scrolled": true
   },
   "outputs": [
    {
     "name": "stdout",
     "output_type": "stream",
     "text": [
      "affect : -0.1729731326646144\n",
      "posemo : -0.16990755615281125\n",
      "negemo : -0.17475669961614707\n",
      "social : -0.15973079005877178\n",
      "family : -0.14413301302836493\n",
      "cogproc : -0.19673039964059505\n",
      "percept : -0.16080044291831636\n",
      "body : -0.16532285460110369\n",
      "work : -0.20211017339728599\n",
      "leisure : -0.17945732921361923\n",
      "money : -0.18830093068461265\n",
      "relig : -0.0955503053135342\n",
      "occupation : -0.19045329093933105\n"
     ]
    }
   ],
   "source": [
    "bias = {}\n",
    "\n",
    "for column in df_cats.columns:\n",
    "    for word in df_cats[column]:\n",
    "        if word in model_bb.wv.vocab:\n",
    "            distance_male = np.linalg.norm(np.subtract(model_bb.wv[word], mean_embedding_male_bb))\n",
    "            distance_female = np.linalg.norm(np.subtract(model_bb.wv[word], mean_embedding_female_bb))\n",
    "            gender_bias_word = distance_male - distance_female\n",
    "            bias[word] = gender_bias_word\n",
    "    bias_calc = pd.DataFrame.from_dict(bias, orient = 'index', columns= ['col'])\n",
    "    mean_bias = bias_calc['col'].mean()\n",
    "    print(column, \":\", mean_bias)\n",
    "    bias = {}"
   ]
  },
  {
   "cell_type": "markdown",
   "id": "f4587bc6",
   "metadata": {},
   "source": [
    "#### OITNB"
   ]
  },
  {
   "cell_type": "markdown",
   "id": "a60981fa",
   "metadata": {},
   "source": [
    "Difference between the gender vectors of OITNB."
   ]
  },
  {
   "cell_type": "code",
   "execution_count": 37,
   "id": "00508e97",
   "metadata": {},
   "outputs": [
    {
     "data": {
      "text/plain": [
       "0.05801101"
      ]
     },
     "execution_count": 37,
     "metadata": {},
     "output_type": "execute_result"
    }
   ],
   "source": [
    "differnce_gender_oitnb = np.linalg.norm(np.subtract(mean_embedding_male_oitnb, mean_embedding_female_oitnb))\n",
    "differnce_gender_oitnb"
   ]
  },
  {
   "cell_type": "markdown",
   "id": "69950ed9",
   "metadata": {},
   "source": [
    "Average bias in discussions about Orange is the new black."
   ]
  },
  {
   "cell_type": "code",
   "execution_count": 38,
   "id": "47084153",
   "metadata": {},
   "outputs": [
    {
     "name": "stdout",
     "output_type": "stream",
     "text": [
      "0.0019175960883425268\n"
     ]
    }
   ],
   "source": [
    "bias = {}\n",
    "total_bias_oitnb = []\n",
    "\n",
    "for column in df_cats.columns:\n",
    "    for word in df_cats[column]:\n",
    "        if word in model_oitnb.wv.vocab:\n",
    "            distance_male = np.linalg.norm(np.subtract(model_oitnb.wv[word], mean_embedding_male_oitnb))\n",
    "            distance_female = np.linalg.norm(np.subtract(model_oitnb.wv[word], mean_embedding_female_oitnb))\n",
    "            gender_bias_word = distance_male - distance_female\n",
    "            bias[word] = gender_bias_word\n",
    "    bias_calc = pd.DataFrame.from_dict(bias, orient = 'index', columns= ['col'])\n",
    "    mean_bias = bias_calc['col'].mean()\n",
    "    #print(column, \":\", mean_bias)\n",
    "    total_bias_oitnb.append(mean_bias)\n",
    "    bias = {}\n",
    "print(np.mean(total_bias_oitnb))"
   ]
  },
  {
   "cell_type": "markdown",
   "id": "92ff087f",
   "metadata": {},
   "source": [
    "Bias per category."
   ]
  },
  {
   "cell_type": "code",
   "execution_count": 39,
   "id": "c1e424c6",
   "metadata": {
    "scrolled": true
   },
   "outputs": [
    {
     "name": "stdout",
     "output_type": "stream",
     "text": [
      "affect : 0.004558481622998621\n",
      "posemo : 0.004853530786931515\n",
      "negemo : 0.004251630492508412\n",
      "social : -0.0007804765997604392\n",
      "family : -0.0019715074449777603\n",
      "cogproc : 0.001793845419908737\n",
      "percept : 0.00402089090245526\n",
      "body : 0.0005251049167580075\n",
      "work : -0.0002679368481040001\n",
      "leisure : 0.0016652430097262064\n",
      "money : 0.0009889466067155202\n",
      "relig : 0.002361629158258438\n",
      "occupation : 0.0029293671250343323\n"
     ]
    }
   ],
   "source": [
    "bias = {}\n",
    "\n",
    "for column in df_cats.columns:\n",
    "    for word in df_cats[column]:\n",
    "        if word in model_oitnb.wv.vocab:\n",
    "            distance_male = np.linalg.norm(np.subtract(model_oitnb.wv[word], mean_embedding_male_oitnb))\n",
    "            distance_female = np.linalg.norm(np.subtract(model_oitnb.wv[word], mean_embedding_female_oitnb))\n",
    "            gender_bias_word = distance_male - distance_female\n",
    "            bias[word] = gender_bias_word\n",
    "    bias_calc = pd.DataFrame.from_dict(bias, orient = 'index', columns= ['col'])\n",
    "    mean_bias = bias_calc['col'].mean()\n",
    "    print(column, \":\", mean_bias)\n",
    "    bias = {}"
   ]
  },
  {
   "cell_type": "markdown",
   "id": "44b048b8",
   "metadata": {},
   "source": [
    "# Interpretation and discussion \n",
    "\n",
    "A smaller distance of a word to one gender vector suggests that this word is more associated with that gender, and a larger difference suggest this word is less associated with that gender (Wevers, 2019).\n",
    "The (average) difference in distance of Wever's words to both gender vectors portrays the gender bias (Wevers, 2019). A positive bias indicates a bias toward women, a negative bias indicates a bias toward men (given that the difference is calculated as gender bias = distance to male vector - distance to female vector).\n",
    "\n",
    "The results show that there is an (average) gender bias in the discussion of BB, as expected. There is only a very small (average) gender bias in the discussions of OITNB, which contradicts the assumption of a clear bias.\n",
    "\n",
    "The biases, as assumed, are toward women in the discussions of OITNB (though this bias may not be big enough to be called a real bias) and toward men in the discussions of BB.\n",
    "Moreover, every category of Wever is biased in the same direction as the overall average gender bias in BB discussions, but mixed for discussions of OITNB.\n",
    "\n",
    "Comparing the size of the bias with the difference between the gender vectors of female and male of both shows, the relative size of the average gender bias of BB discussions is far larger than the average gender bias of OITNB discussions.\n",
    "This suggest that discussions of OITNB contain almost equally male- and female-related words, but discussions of BB contain more male- than female-related words.\n",
    "\n",
    "As the dataset (more specifically the 'post' column) contains discussion posts of the shows but not the actual content of the shows themselves, it is important to note that it is only possible to make statements about the gender bias of the discussions. Though the argumentation of the origin of a bias in the discussions may connected to the content of the shows, it would be necessary to analyse the content of the shows to say something about the gender bias of the shows themselves.\n",
    "\n",
    "Wevers, M. (2019). Using Word Embeddings to Examine Gender Bias in Dutch Newspapers, 1950-1990, 92–97. https://doi.org/10.18653/v1/w19-4712"
   ]
  }
 ],
 "metadata": {
  "kernelspec": {
   "display_name": "Python 3 (ipykernel)",
   "language": "python",
   "name": "python3"
  },
  "language_info": {
   "codemirror_mode": {
    "name": "ipython",
    "version": 3
   },
   "file_extension": ".py",
   "mimetype": "text/x-python",
   "name": "python",
   "nbconvert_exporter": "python",
   "pygments_lexer": "ipython3",
   "version": "3.8.8"
  }
 },
 "nbformat": 4,
 "nbformat_minor": 5
}
